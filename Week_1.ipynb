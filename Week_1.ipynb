{
 "cells": [
  {
   "cell_type": "markdown",
   "metadata": {},
   "source": [
    "# Week 1 - Python Basics and Files\n",
    "\n",
    "**Book Suggestion:** Data Wrangling with Python: Tips and Tools to Make Your Life Easier\n",
    "<img align=\"right\" style=\"padding-right:10px;\" src=\"figures/Data_Wrangling_Book.jpg\" width=200><br>\n",
    "Authors: Jacqueline Kazil and Katherine Jamul<br>\n",
    "Publisher: O'Reilly<br>\n",
    "ISBN-13: 978-1491948811<br>\n",
    "ISBN-10: 1491948817<br>\n",
    "\n",
    "Sadly, this book is Python 2 and hasn't been updated to Python 3. With the eminent demise of Python 2, we cannot in good conscience require this book as the \"official\" textbook. Even so, there is a lot of good information here and we will be loosely following the book's organization and examples, translated to Python 3. <br>\n",
    "\n",
    "**Optional Reading:** DWP Chapters 1 - 3 (pages 1 - 73)<br>\n",
    "\n",
    "**Code & Data Repository:** https://github.com/jackiekazil/data-wrangling\n",
    "\n",
    "**Outline:**<br>\n",
    "\n",
    "* Documenting your work\n",
    "    1. Markdown\n",
    "    2. Markdown vs. Code Comments\n",
    "    3. Know your audience\n",
    "    4. FTEs as examples\n",
    "* Python\n",
    "    1. Python 3\n",
    "    2. Installing (Anaconda)\n",
    "    3. Jupyter notebooks / labs\n",
    "    4. Data Structures\n",
    "        * List\n",
    "        * Dictionary\n",
    "        * List of dictionaries\n",
    "    5. Working With Files in Python\n",
    "        * Location, location, location\n",
    "        * Context managers and text files\n",
    "        * CSVs the DIY way\n",
    "* File formats\n",
    "    1. CSV\n",
    "        * Manually\n",
    "        * Using Pandas\n",
    "    2. JSON\n"
   ]
  },
  {
   "cell_type": "markdown",
   "metadata": {},
   "source": [
    "# Documenting Your Work\n",
    "\n",
    "We have heard from many employers and past students that the ability to document one's work is a vital skill. As such, we will expect you to document your deliverables to be documented in an intelligent and thoughtful manner. To that end, we (humbly) suggest using these From the Experts pages as examples of good documentation. \n",
    "\n",
    "## Markdown\n",
    "\n",
    "Markdown is a semi-standard format for text formatting that is used in Jupyter notebook pages, GitHub Readme files, and many other places. Jupyter Lab has a Markdown cheatsheet and GitHub has a nice introductory page at https://guides.github.com/features/mastering-markdown/\n",
    "\n",
    "## Markdown vs. Code Comments\n",
    "\n",
    "Students frequently ask when they should use Markdown and when to use code comments. The rule of thumb used on these pages is: \n",
    "\n",
    "* Markdown is used for exposition. Explaining \"bigger picture\" concepts such as \n",
    "    * background motivating the project \n",
    "    * algorithms \n",
    "    * Explaining results and graphs <---- VERY IMPORTANT\n",
    "    * etc. Basically, anything that isn't code\n",
    "* Comments are used as fine-grained detail about the code itself:\n",
    "    * Purpose of a variable\n",
    "    * Explanation of a calculation\n",
    "    * Describing function parameters or return values\n",
    "    * etc.\n",
    "    \n",
    "## Know Your Audience\n",
    "\n",
    "Just as when writing a paper or giving a presentation, it is important to direct project documentation to the appropriate level for an audience. For example, a C-level executive (CEO, CIO, etc.) will probably not have specialized knowledge necessary to understand the code, computations, and graphs you hand in as deliveables without a generous amount of explanation as to **why** the results are (or are not) significant. If you were to just throw a printout of code and graphs on a CTO's desk, at best you would told to re-do the report...\n",
    "\n",
    "For purposes of this class, assume your audience is a C-level executive that DOES NOT read code. You will be expected to document your project well enough that this fictitious executive can understand the reason you took the steps you did and the results you got. **Failure to adhere to this standard will be grounds for rejecting the assignment or severe point penalties.**\n",
    "\n",
    "## FTEs as Examples\n",
    "\n",
    "Notice this document that was written as a Jupyter notebook page and is avilable for download has sections with headers for organization. Also notice (farther down) that there are hundreds of words of explanatory text before the first line of Python is written. "
   ]
  },
  {
   "cell_type": "markdown",
   "metadata": {},
   "source": [
    "# Python\n",
    "## Python 3\n",
    "\n",
    "Python 2 can now measure its (supported) life span in months. January 1, 2020 is its end of life. While we understand there is a lot of legacy Python 2 code in use, the way forward is Python 3. If you end up needing the techniques taught in this course in a Python 2 environment, the book listed above is a good resource and it really is fairly easy to translate backwards from Python 3 to 2 (or, better yet, learn how to write code that works for both). "
   ]
  },
  {
   "cell_type": "markdown",
   "metadata": {},
   "source": [
    "## Installing (Anaconda)\n",
    "\n",
    "<img align=\"right\" style=\"padding-right:10px;\" src=\"figures/No_Python_2.png\" width=\"200\">\n",
    "\n",
    "Even though [Python.org](https://www.python.org/) maintains the \"official\" Python distribution (many times called CPython because the interpreter is written in C), [Anaconda's](https://www.anaconda.com/) packaging of Python is heavily customized for scientific and data science applications. We strongly recommend using this version.\n"
   ]
  },
  {
   "cell_type": "markdown",
   "metadata": {},
   "source": [
    "## Jupyter notebooks / labs\n",
    "\n",
    "Jupyter notebook pages have become the defacto standard for the data wrangling and exploratory data analysis portions of data science. While we won't go so far as to say that knowing at least the basics is a *mandatory* skill, we feel it is very important. To that end, **all lab deliverables will be Jupyter notebook pager (.ipynb files).** \n",
    "\n",
    "**Jupyter notebook** is a standalone \"server\" for notebook pages. Using the notebook server, you can open individual notebook pages in browser tabs and work on them. \n",
    "\n",
    "**Jupyter Lab** is an Integrated Development Environment (IDE) for Jupyter notebook that also has an integrated editor, terminal window, the ability to open and arrange multiple notebook pages, and more. The course's author used Jupyter Lab for all phases of development of this course and highly recommends it. \n",
    "\n",
    "Anaconda Python has Jupyter notebook and Jupyter Lab pre-installed. \n",
    "\n",
    "<hr>"
   ]
  },
  {
   "cell_type": "markdown",
   "metadata": {},
   "source": [
    "## Data Structures\n",
    "\n",
    "There are two main data structures (data containers) we use in Python. \n",
    "\n",
    "* List\n",
    "* Dictionary\n",
    "\n",
    "Both of these can hold any type of data (integers, floating point, string, object, etc.), the only difference noticable to the casual observer is how we access the data. "
   ]
  },
  {
   "cell_type": "markdown",
   "metadata": {},
   "source": [
    "### List\n",
    "\n",
    "To paraphrase William Shakespeare, \n",
    "\n",
    "> \"An array by any other name, would still smell as sweet.\" \n",
    "\n",
    "OK, maybe that didn't work too well. The point is, lists in Python are essentially the same thing as arrays in other languages. We saw above that our `lines` list held a bunch of strings. It could just as easily held integers, objects or a mix of them all. Let's do a quick review:\n",
    "\n",
    "First, a list containing the first 10 integers in our number system:"
   ]
  },
  {
   "cell_type": "code",
   "execution_count": 1,
   "metadata": {},
   "outputs": [
    {
     "data": {
      "text/plain": [
       "[0, 1, 2, 3, 4, 5, 6, 7, 8, 9]"
      ]
     },
     "execution_count": 1,
     "metadata": {},
     "output_type": "execute_result"
    }
   ],
   "source": [
    "# range(x, y) generates y number of sequential numbers, starting at number x \n",
    "ints = list(range(0,10))\n",
    "ints"
   ]
  },
  {
   "cell_type": "markdown",
   "metadata": {},
   "source": [
    "A list element can be accessed with the name of the list (ints, in this case) and an index number. For example, the first element is always at 0:"
   ]
  },
  {
   "cell_type": "code",
   "execution_count": 2,
   "metadata": {},
   "outputs": [
    {
     "data": {
      "text/plain": [
       "0"
      ]
     },
     "execution_count": 2,
     "metadata": {},
     "output_type": "execute_result"
    }
   ],
   "source": [
    "ints[0]"
   ]
  },
  {
   "cell_type": "markdown",
   "metadata": {},
   "source": [
    "In this case, it is coincidental that the data and index number are the same. \n",
    "\n",
    "Let's ask the list how many elements it has:"
   ]
  },
  {
   "cell_type": "code",
   "execution_count": 3,
   "metadata": {},
   "outputs": [
    {
     "data": {
      "text/plain": [
       "10"
      ]
     },
     "execution_count": 3,
     "metadata": {},
     "output_type": "execute_result"
    }
   ],
   "source": [
    "len(ints)"
   ]
  },
  {
   "cell_type": "markdown",
   "metadata": {},
   "source": [
    "The `len()` function will tell us the size of many types of data or data structure. It is a very important and useful function. Keep it in mind.\n",
    "\n",
    "To prove that the index and data are not coupled in any way, let's reverse the list and then iterate through it, printing index and data at every step:"
   ]
  },
  {
   "cell_type": "code",
   "execution_count": 4,
   "metadata": {},
   "outputs": [
    {
     "data": {
      "text/plain": [
       "[9, 8, 7, 6, 5, 4, 3, 2, 1, 0]"
      ]
     },
     "execution_count": 4,
     "metadata": {},
     "output_type": "execute_result"
    }
   ],
   "source": [
    "# Remember, a list slice's parameters are [start index : number of elements : \"Step\" size]\n",
    "# Blanks in the first two places means use defaults -- start element and end element. \n",
    "# -1 for step size means start at the back and go forward, element by element\n",
    "# Finally, we store the reversed output in a new variable.\n",
    "rev_ints = ints[::-1]\n",
    "rev_ints"
   ]
  },
  {
   "cell_type": "markdown",
   "metadata": {},
   "source": [
    "Remember, Python's `for` loops work like \"for each\" loops in other languages. Think of it like this:\n",
    "\n",
    "```\n",
    "for each ITEM in CONTAINER:\n",
    "    do some action on ITEM\n",
    "```\n",
    "\n",
    "In this case, we will use `enumerate()` to count the elements as we iterate through the list. Conceptually, \n",
    "\n",
    "```\n",
    "for each INDEX and ITEM in REV_INTS:\n",
    "    print(INDEX, ITEM)\n",
    "```\n"
   ]
  },
  {
   "cell_type": "code",
   "execution_count": 5,
   "metadata": {},
   "outputs": [
    {
     "name": "stdout",
     "output_type": "stream",
     "text": [
      "index\titem\n",
      "----\t----\n",
      "0\t9\n",
      "1\t8\n",
      "2\t7\n",
      "3\t6\n",
      "4\t5\n",
      "5\t4\n",
      "6\t3\n",
      "7\t2\n",
      "8\t1\n",
      "9\t0\n"
     ]
    }
   ],
   "source": [
    "print('index\\titem')\n",
    "print('----\\t----')\n",
    "for index, item in enumerate(rev_ints):\n",
    "    print(f'{index}\\t{item}')"
   ]
  },
  {
   "cell_type": "markdown",
   "metadata": {},
   "source": [
    "### Dictionary\n",
    "\n",
    "Conceptually, dictionaries are similar to lists in that they have unique indeces (called *keys*) that reference elements (called *values*). For example:"
   ]
  },
  {
   "cell_type": "code",
   "execution_count": 6,
   "metadata": {},
   "outputs": [
    {
     "data": {
      "text/plain": [
       "{'fruit': 'apples', 'weight': 5, 'color': 'red'}"
      ]
     },
     "execution_count": 6,
     "metadata": {},
     "output_type": "execute_result"
    }
   ],
   "source": [
    "ex_d = {'fruit':'apples', 'weight':5, 'color':'red'}\n",
    "ex_d"
   ]
  },
  {
   "cell_type": "markdown",
   "metadata": {},
   "source": [
    "Keys are used like list indeces:"
   ]
  },
  {
   "cell_type": "code",
   "execution_count": 7,
   "metadata": {},
   "outputs": [
    {
     "data": {
      "text/plain": [
       "'apples'"
      ]
     },
     "execution_count": 7,
     "metadata": {},
     "output_type": "execute_result"
    }
   ],
   "source": [
    "ex_d['fruit']"
   ]
  },
  {
   "cell_type": "code",
   "execution_count": 8,
   "metadata": {},
   "outputs": [
    {
     "data": {
      "text/plain": [
       "5"
      ]
     },
     "execution_count": 8,
     "metadata": {},
     "output_type": "execute_result"
    }
   ],
   "source": [
    "ex_d['weight']"
   ]
  },
  {
   "cell_type": "markdown",
   "metadata": {},
   "source": [
    "Where life starts to get interesting is when the **value** is another data structure, like a list:"
   ]
  },
  {
   "cell_type": "code",
   "execution_count": 9,
   "metadata": {},
   "outputs": [],
   "source": [
    "ex_d['weight'] = [1,4,2]"
   ]
  },
  {
   "cell_type": "code",
   "execution_count": 10,
   "metadata": {},
   "outputs": [
    {
     "data": {
      "text/plain": [
       "[1, 4, 2]"
      ]
     },
     "execution_count": 10,
     "metadata": {},
     "output_type": "execute_result"
    }
   ],
   "source": [
    "ex_d['weight']"
   ]
  },
  {
   "cell_type": "code",
   "execution_count": 11,
   "metadata": {},
   "outputs": [
    {
     "data": {
      "text/plain": [
       "{'fruit': 'apples', 'weight': [1, 4, 2], 'color': 'red'}"
      ]
     },
     "execution_count": 11,
     "metadata": {},
     "output_type": "execute_result"
    }
   ],
   "source": [
    "ex_d"
   ]
  },
  {
   "cell_type": "markdown",
   "metadata": {},
   "source": [
    "**Note:** Keys don't have to be strings but the fact that they *can be strings* is a major motivation to use dictionaries. \n",
    "\n",
    "It is also worth noting that the JSON data format we look at lower down on the page is, in effect, a dictionary. This is *very* convenient."
   ]
  },
  {
   "cell_type": "markdown",
   "metadata": {},
   "source": [
    "### List of dictionaries"
   ]
  },
  {
   "cell_type": "markdown",
   "metadata": {},
   "source": [
    "Let's imagine for a moment that we have a file in which every line has the same categories of data. For example a bunch of scientists, and for each scientist we know name, date born, date died, age, and field of study. Each scientist could be contained in a discrete dictionary, and the dictionaries could be stored in a list. "
   ]
  },
  {
   "cell_type": "code",
   "execution_count": 12,
   "metadata": {},
   "outputs": [
    {
     "data": {
      "text/plain": [
       "{'name': 'Rosaline Franklin',\n",
       " 'Born': '1920-07-25',\n",
       " 'Died': '1958-04-16',\n",
       " 'Age': '37',\n",
       " 'Field': 'Chemist'}"
      ]
     },
     "execution_count": 12,
     "metadata": {},
     "output_type": "execute_result"
    }
   ],
   "source": [
    "sc1 = {'name':'Rosaline Franklin', 'Born':'1920-07-25','Died':'1958-04-16', 'Age':'37', 'Field':'Chemist'}\n",
    "sc1"
   ]
  },
  {
   "cell_type": "code",
   "execution_count": 13,
   "metadata": {},
   "outputs": [
    {
     "data": {
      "text/plain": [
       "{'name': 'William Gosset',\n",
       " 'Born': '1876-06-13',\n",
       " 'Died': '1937-10-16',\n",
       " 'Age': '61',\n",
       " 'Field': 'Statistician'}"
      ]
     },
     "execution_count": 13,
     "metadata": {},
     "output_type": "execute_result"
    }
   ],
   "source": [
    "sc2 = {'name':'William Gosset', 'Born':'1876-06-13','Died':'1937-10-16', 'Age':'61', 'Field':'Statistician'}\n",
    "sc2"
   ]
  },
  {
   "cell_type": "code",
   "execution_count": 14,
   "metadata": {},
   "outputs": [
    {
     "data": {
      "text/plain": [
       "[{'name': 'Rosaline Franklin',\n",
       "  'Born': '1920-07-25',\n",
       "  'Died': '1958-04-16',\n",
       "  'Age': '37',\n",
       "  'Field': 'Chemist'},\n",
       " {'name': 'William Gosset',\n",
       "  'Born': '1876-06-13',\n",
       "  'Died': '1937-10-16',\n",
       "  'Age': '61',\n",
       "  'Field': 'Statistician'}]"
      ]
     },
     "execution_count": 14,
     "metadata": {},
     "output_type": "execute_result"
    }
   ],
   "source": [
    "scientists = [sc1, sc2]\n",
    "scientists"
   ]
  },
  {
   "cell_type": "markdown",
   "metadata": {},
   "source": [
    "Looking at `scientists`, we can tell it is a list because square brackets enclose the data. We could also use the `type()` function:"
   ]
  },
  {
   "cell_type": "code",
   "execution_count": 15,
   "metadata": {},
   "outputs": [
    {
     "data": {
      "text/plain": [
       "list"
      ]
     },
     "execution_count": 15,
     "metadata": {},
     "output_type": "execute_result"
    }
   ],
   "source": [
    "type(scientists)"
   ]
  },
  {
   "cell_type": "markdown",
   "metadata": {},
   "source": [
    "If we ask `scientists` how many elements it has, we should get 2."
   ]
  },
  {
   "cell_type": "code",
   "execution_count": 16,
   "metadata": {},
   "outputs": [
    {
     "data": {
      "text/plain": [
       "2"
      ]
     },
     "execution_count": 16,
     "metadata": {},
     "output_type": "execute_result"
    }
   ],
   "source": [
    "len(scientists)"
   ]
  },
  {
   "cell_type": "markdown",
   "metadata": {},
   "source": [
    "And, let's look at the first element:"
   ]
  },
  {
   "cell_type": "code",
   "execution_count": 17,
   "metadata": {},
   "outputs": [
    {
     "data": {
      "text/plain": [
       "{'name': 'Rosaline Franklin',\n",
       " 'Born': '1920-07-25',\n",
       " 'Died': '1958-04-16',\n",
       " 'Age': '37',\n",
       " 'Field': 'Chemist'}"
      ]
     },
     "execution_count": 17,
     "metadata": {},
     "output_type": "execute_result"
    }
   ],
   "source": [
    "scientists[0]"
   ]
  },
  {
   "cell_type": "markdown",
   "metadata": {},
   "source": [
    "Looks like a dictionary. Let's verify that:"
   ]
  },
  {
   "cell_type": "code",
   "execution_count": 18,
   "metadata": {},
   "outputs": [
    {
     "data": {
      "text/plain": [
       "dict"
      ]
     },
     "execution_count": 18,
     "metadata": {},
     "output_type": "execute_result"
    }
   ],
   "source": [
    "type(scientists[0])"
   ]
  },
  {
   "cell_type": "markdown",
   "metadata": {},
   "source": [
    "Now, the tricky part. What if we wanted to get to the data held in the `name` key of the first element?\n",
    "\n",
    "Well, we know that when we use an index with the list, we get the thing at the index, which happens to be a dictionary. So let's just tack on the key and see what happens:"
   ]
  },
  {
   "cell_type": "code",
   "execution_count": 19,
   "metadata": {},
   "outputs": [
    {
     "data": {
      "text/plain": [
       "'Rosaline Franklin'"
      ]
     },
     "execution_count": 19,
     "metadata": {},
     "output_type": "execute_result"
    }
   ],
   "source": [
    "scientists[0]['name']"
   ]
  },
  {
   "cell_type": "code",
   "execution_count": 20,
   "metadata": {},
   "outputs": [
    {
     "data": {
      "text/plain": [
       "'William Gosset'"
      ]
     },
     "execution_count": 20,
     "metadata": {},
     "output_type": "execute_result"
    }
   ],
   "source": [
    "scientists[1]['name']"
   ]
  },
  {
   "cell_type": "markdown",
   "metadata": {},
   "source": [
    "Not the most intuitive code but **extremely** useful, as we will see. \n",
    "\n",
    "As a side note, this list-of-dictionaries structure is used often enough that there are several libraries one can install to help make using them easier."
   ]
  },
  {
   "cell_type": "markdown",
   "metadata": {},
   "source": [
    "<hr>"
   ]
  },
  {
   "cell_type": "markdown",
   "metadata": {},
   "source": [
    "## Working With Files in Python\n",
    "\n",
    "### Location, location, location\n",
    "As in the real estate business, when working with files in any programming landuage, the location of the file is one of the most important aspects. \n",
    "\n",
    "**It is vitally important that you understand the file system of the computer you are working on!**\n",
    "\n",
    "When working with files in a programming landuage, you must be able to specify the *path* to the file. The examples in these From the Expert pages all use data files stored in a subdirectory that is unsurprisingly called \"data.\" You do not have to organize your work that way, just be aware that if you download the actual notebook pages to run the examples (HIGHLY ENCOURAGED), you *may* have to adjust the paths.\n",
    "\n",
    "As a warmup, we will read a simple text file -- the Shakespeare compendium from Peter Norvig's natural language processing page that we've used in several other classes. The URL is https://norvig.com/ngrams/shakespeare.txt\n",
    "\n"
   ]
  },
  {
   "cell_type": "markdown",
   "metadata": {},
   "source": [
    "<hr>\n",
    "\n",
    "## Context managers and text files\n",
    "A relatively recent addition to Python is called **context managers.** A context manager a block of code that begins with the word `with`. Everything indented below that line belongs in that context. This means that variables declared in the context go away, files get automatically closed, etc. <br>\n",
    "<br>\n",
    "Context managers are particularly useful for reading and writing files because you don't have to worry about closing the file when you are done. In the example below, we are going to treat the file as a container full of lines (an iterable) and use a for loop to read line by line. Since there are a lot of lines, we'll stuff them into a list (rather than print them out)."
   ]
  },
  {
   "cell_type": "code",
   "execution_count": 21,
   "metadata": {},
   "outputs": [],
   "source": [
    "# with open starts a context and opens a file. \n",
    "# the variable after the word as is our handle to the file.\n",
    "lines = [] # List to hold the lines. \n",
    "with open ('data/shakespeare.txt', 'r') as infile:    \n",
    "    for line in infile:\n",
    "        lines.append(line)\n",
    "\n",
    "# out of context. the file is closed."
   ]
  },
  {
   "cell_type": "markdown",
   "metadata": {},
   "source": [
    "OK, that seemed to go well. Let's check the size of our list to see how many lines of text were read in."
   ]
  },
  {
   "cell_type": "code",
   "execution_count": 22,
   "metadata": {},
   "outputs": [
    {
     "name": "stdout",
     "output_type": "stream",
     "text": [
      "lines has 129107 lines in it.\n"
     ]
    }
   ],
   "source": [
    "print(f'lines has {len(lines)} lines in it.')"
   ]
  },
  {
   "cell_type": "markdown",
   "metadata": {},
   "source": [
    "129,107 lines of text are too much to many to display. Let's use the function \n",
    "\n",
    "`enumerate()`\n",
    "\n",
    "along with a for loop to look at a *few* lines."
   ]
  },
  {
   "cell_type": "code",
   "execution_count": 23,
   "metadata": {},
   "outputs": [
    {
     "name": "stdout",
     "output_type": "stream",
     "text": [
      "A MIDSUMMER-NIGHT'S DREAM\n",
      "\n",
      "\n",
      "\n",
      "Now , fair Hippolyta , our nuptial hour \n",
      "\n",
      "Draws on apace : four happy days bring in \n",
      "\n",
      "Another moon ; but O ! methinks how slow \n",
      "\n",
      "This old moon wanes ; she lingers my desires ,\n",
      "\n",
      "Like to a step dame , or a dowager \n",
      "\n",
      "Long withering out a young man's revenue .\n",
      "\n",
      "\n",
      "\n",
      "Four days will quickly steep themselves in night ;\n",
      "\n"
     ]
    }
   ],
   "source": [
    "# Enumerate outputs an integer each time through a loop. We have to give it a variable to store the number in.\n",
    "# In this case, I'm using the variable \"c\" -- short for \"count\".\n",
    "for c,line in enumerate(lines):\n",
    "    if c < 10:      # 10 is an arbitrary number\n",
    "        print(line)\n",
    "    else:\n",
    "        break\n",
    "    "
   ]
  },
  {
   "cell_type": "markdown",
   "metadata": {},
   "source": [
    "Or, we could look at a slice of the list, like so:"
   ]
  },
  {
   "cell_type": "code",
   "execution_count": 24,
   "metadata": {},
   "outputs": [
    {
     "data": {
      "text/plain": [
       "[\"A MIDSUMMER-NIGHT'S DREAM\\n\",\n",
       " '\\n',\n",
       " 'Now , fair Hippolyta , our nuptial hour \\n',\n",
       " 'Draws on apace : four happy days bring in \\n',\n",
       " 'Another moon ; but O ! methinks how slow \\n',\n",
       " 'This old moon wanes ; she lingers my desires ,\\n',\n",
       " 'Like to a step dame , or a dowager \\n',\n",
       " \"Long withering out a young man's revenue .\\n\",\n",
       " '\\n',\n",
       " 'Four days will quickly steep themselves in night ;\\n']"
      ]
     },
     "execution_count": 24,
     "metadata": {},
     "output_type": "execute_result"
    }
   ],
   "source": [
    "lines[:10]   # output 10 list elements starting at the default (first element)"
   ]
  },
  {
   "cell_type": "markdown",
   "metadata": {},
   "source": [
    "Notice how the output is different? That's because the first way used a print function, which expects strings and uses the end-of-line character \"\\n\" but slicing the list gives us the raw content of each element. "
   ]
  },
  {
   "cell_type": "markdown",
   "metadata": {},
   "source": [
    "## CSVs the DIY way\n",
    "\n",
    "Let's pretend for a moment that we didn't have Pandas or the CSV library and we have that list of scientists in a file. **The first step should _always_ be to look at the data in a programmer's text editor (Atom, VS Code, SublimeText, vim, etc.).**\n",
    "\n",
    "In this case, assume we've looked at the file and see that it is a normal CSV file with a header row and no surprises. Let's read it in like a text file first."
   ]
  },
  {
   "cell_type": "code",
   "execution_count": 25,
   "metadata": {},
   "outputs": [
    {
     "data": {
      "text/plain": [
       "['Name,Born,Died,Age,Occupation\\n',\n",
       " 'Rosaline Franklin,1920-07-25,1958-04-16,37,Chemist\\n',\n",
       " 'William Gosset,1876-06-13,1937-10-16,61,Statistician\\n',\n",
       " 'Florence Nightingale,1820-05-12,1910-08-13,90,Nurse\\n',\n",
       " 'Marie Curie,1867-11-07,1934-07-04,66,Chemist\\n',\n",
       " 'Rachel Carson,1907-05-27,1964-04-14,56,Biologist\\n',\n",
       " 'John Snow,1813-03-15,1858-06-16,45,Physician\\n',\n",
       " 'Alan Turing,1912-06-23,1954-06-07,41,Computer Scientist\\n',\n",
       " 'Johann Gauss,1777-04-30,1855-02-23,77,Mathematician\\n']"
      ]
     },
     "execution_count": 25,
     "metadata": {},
     "output_type": "execute_result"
    }
   ],
   "source": [
    "csv_text = []\n",
    "with open('data/scientists.csv', 'r') as infile:\n",
    "    for line in infile:\n",
    "        csv_text.append(line)\n",
    "        \n",
    "csv_text"
   ]
  },
  {
   "cell_type": "markdown",
   "metadata": {},
   "source": [
    "OK, no surprises. Let's slice and dice the data into our favorite data structure.\n",
    "\n",
    "First, let's pull out the header and split it up:"
   ]
  },
  {
   "cell_type": "code",
   "execution_count": 26,
   "metadata": {},
   "outputs": [],
   "source": [
    "header = csv_text[0].split(\",\")"
   ]
  },
  {
   "cell_type": "code",
   "execution_count": 27,
   "metadata": {},
   "outputs": [
    {
     "data": {
      "text/plain": [
       "['Name', 'Born', 'Died', 'Age', 'Occupation\\n']"
      ]
     },
     "execution_count": 27,
     "metadata": {},
     "output_type": "execute_result"
    }
   ],
   "source": [
    "header"
   ]
  },
  {
   "cell_type": "markdown",
   "metadata": {},
   "source": [
    "Notice how the end of line is still on the last element? Since the list is short, we can deal with it easily. \n",
    "\n",
    "Since Python is 0 based, the last index in a list is always one **smaller** than the length. Observe:"
   ]
  },
  {
   "cell_type": "code",
   "execution_count": 28,
   "metadata": {},
   "outputs": [
    {
     "data": {
      "text/plain": [
       "5"
      ]
     },
     "execution_count": 28,
     "metadata": {},
     "output_type": "execute_result"
    }
   ],
   "source": [
    "len(header)"
   ]
  },
  {
   "cell_type": "code",
   "execution_count": 29,
   "metadata": {},
   "outputs": [
    {
     "data": {
      "text/plain": [
       "'Occupation\\n'"
      ]
     },
     "execution_count": 29,
     "metadata": {},
     "output_type": "execute_result"
    }
   ],
   "source": [
    "header[4]"
   ]
  },
  {
   "cell_type": "markdown",
   "metadata": {},
   "source": [
    "So, to correct it programmatically, use len(header) - 1"
   ]
  },
  {
   "cell_type": "code",
   "execution_count": 30,
   "metadata": {},
   "outputs": [
    {
     "data": {
      "text/plain": [
       "['Name', 'Born', 'Died', 'Age', 'Occupation']"
      ]
     },
     "execution_count": 30,
     "metadata": {},
     "output_type": "execute_result"
    }
   ],
   "source": [
    "last = len(header) - 1\n",
    "header[last] = header[last].strip()\n",
    "header"
   ]
  },
  {
   "cell_type": "markdown",
   "metadata": {},
   "source": [
    "There are several ways to convert each line to a dictionary with the strings in `header` as the keys. The most direct way is using the function called `zip()`, which takes two lists and joins them together. Then if we wrap that result in a dictionary, it will convert for us.  Here is a simple example to start with:"
   ]
  },
  {
   "cell_type": "code",
   "execution_count": 31,
   "metadata": {},
   "outputs": [
    {
     "data": {
      "text/plain": [
       "{'apple': 'red', 'orange': 'orange', 'pear': 'yellow'}"
      ]
     },
     "execution_count": 31,
     "metadata": {},
     "output_type": "execute_result"
    }
   ],
   "source": [
    "list1 = ['apple','orange','pear']\n",
    "list2 = ['red','orange','yellow']\n",
    "dict(zip(list1, list2))"
   ]
  },
  {
   "cell_type": "markdown",
   "metadata": {},
   "source": [
    "**BUT** we have a slight problem: the data lines of csv_text (index 1 to the end) are not broken up. Each one is still a string:"
   ]
  },
  {
   "cell_type": "code",
   "execution_count": 32,
   "metadata": {},
   "outputs": [
    {
     "data": {
      "text/plain": [
       "['Rosaline Franklin,1920-07-25,1958-04-16,37,Chemist\\n',\n",
       " 'William Gosset,1876-06-13,1937-10-16,61,Statistician\\n',\n",
       " 'Florence Nightingale,1820-05-12,1910-08-13,90,Nurse\\n',\n",
       " 'Marie Curie,1867-11-07,1934-07-04,66,Chemist\\n',\n",
       " 'Rachel Carson,1907-05-27,1964-04-14,56,Biologist\\n',\n",
       " 'John Snow,1813-03-15,1858-06-16,45,Physician\\n',\n",
       " 'Alan Turing,1912-06-23,1954-06-07,41,Computer Scientist\\n',\n",
       " 'Johann Gauss,1777-04-30,1855-02-23,77,Mathematician\\n']"
      ]
     },
     "execution_count": 32,
     "metadata": {},
     "output_type": "execute_result"
    }
   ],
   "source": [
    "csv_text[1:]"
   ]
  },
  {
   "cell_type": "markdown",
   "metadata": {},
   "source": [
    "But, we know we can use the `split()` function on strings to break it into a list:"
   ]
  },
  {
   "cell_type": "code",
   "execution_count": 33,
   "metadata": {},
   "outputs": [
    {
     "data": {
      "text/plain": [
       "['Rosaline Franklin', '1920-07-25', '1958-04-16', '37', 'Chemist\\n']"
      ]
     },
     "execution_count": 33,
     "metadata": {},
     "output_type": "execute_result"
    }
   ],
   "source": [
    "csv_text[1].split(',')"
   ]
  },
  {
   "cell_type": "markdown",
   "metadata": {},
   "source": [
    "Actually, that's the last thing we need to know. Let's put this in pseudocode:\n",
    "\n",
    "```\n",
    "scientists = new list container\n",
    "for each item in csv_text[1:]:  # so, each item is one of our scientist strings\n",
    "    data_line = split item into a list at ','\n",
    "    data_dictionary zip header and data_line then convert to dictionary\n",
    "    append data_dictionary to end of scientists\n",
    "```\n",
    "\n",
    "That should do it. Let's try it out:\n",
    "    "
   ]
  },
  {
   "cell_type": "code",
   "execution_count": 34,
   "metadata": {},
   "outputs": [
    {
     "data": {
      "text/plain": [
       "[{'Name': 'Rosaline Franklin',\n",
       "  'Born': '1920-07-25',\n",
       "  'Died': '1958-04-16',\n",
       "  'Age': '37',\n",
       "  'Occupation': 'Chemist\\n'},\n",
       " {'Name': 'William Gosset',\n",
       "  'Born': '1876-06-13',\n",
       "  'Died': '1937-10-16',\n",
       "  'Age': '61',\n",
       "  'Occupation': 'Statistician\\n'},\n",
       " {'Name': 'Florence Nightingale',\n",
       "  'Born': '1820-05-12',\n",
       "  'Died': '1910-08-13',\n",
       "  'Age': '90',\n",
       "  'Occupation': 'Nurse\\n'},\n",
       " {'Name': 'Marie Curie',\n",
       "  'Born': '1867-11-07',\n",
       "  'Died': '1934-07-04',\n",
       "  'Age': '66',\n",
       "  'Occupation': 'Chemist\\n'},\n",
       " {'Name': 'Rachel Carson',\n",
       "  'Born': '1907-05-27',\n",
       "  'Died': '1964-04-14',\n",
       "  'Age': '56',\n",
       "  'Occupation': 'Biologist\\n'},\n",
       " {'Name': 'John Snow',\n",
       "  'Born': '1813-03-15',\n",
       "  'Died': '1858-06-16',\n",
       "  'Age': '45',\n",
       "  'Occupation': 'Physician\\n'},\n",
       " {'Name': 'Alan Turing',\n",
       "  'Born': '1912-06-23',\n",
       "  'Died': '1954-06-07',\n",
       "  'Age': '41',\n",
       "  'Occupation': 'Computer Scientist\\n'},\n",
       " {'Name': 'Johann Gauss',\n",
       "  'Born': '1777-04-30',\n",
       "  'Died': '1855-02-23',\n",
       "  'Age': '77',\n",
       "  'Occupation': 'Mathematician\\n'}]"
      ]
     },
     "execution_count": 34,
     "metadata": {},
     "output_type": "execute_result"
    }
   ],
   "source": [
    "scientists = []\n",
    "for item in csv_text[1:]:\n",
    "    data_line = item.split(',')\n",
    "    data_dictionary = dict(zip(header, data_line))\n",
    "    scientists.append(data_dictionary)\n",
    "    \n",
    "scientists"
   ]
  },
  {
   "cell_type": "markdown",
   "metadata": {},
   "source": [
    "Not bad! Let's print out each scientist's name:"
   ]
  },
  {
   "cell_type": "code",
   "execution_count": 35,
   "metadata": {},
   "outputs": [
    {
     "name": "stdout",
     "output_type": "stream",
     "text": [
      "Rosaline Franklin\n",
      "William Gosset\n",
      "Florence Nightingale\n",
      "Marie Curie\n",
      "Rachel Carson\n",
      "John Snow\n",
      "Alan Turing\n",
      "Johann Gauss\n"
     ]
    }
   ],
   "source": [
    "for scientist in scientists:\n",
    "    print(scientist['Name'])"
   ]
  },
  {
   "cell_type": "markdown",
   "metadata": {},
   "source": [
    "Hopefully, it should be reasonably apparent that we just loaded a CSV file into a data structure that would make it reasonably simple to manipulate \"rows\" or \"columns.\"\n",
    "\n",
    "Of course if we were going to use this method, we would make it into a function and do the read into list-of-dictionary in one set of steps to make it easy to use the same code on several files.\n",
    "\n",
    "Fortunately, there is a better way.\n",
    "\n",
    "<hr>"
   ]
  },
  {
   "cell_type": "markdown",
   "metadata": {},
   "source": [
    "# File Formats\n",
    "\n",
    "*Libraries* are 3rd party bundles of code that add functionality to Python. Since these libraries are external to \"core\" Python, they must be imported, or in some cases installed first then imported, to work. \n",
    "\n",
    "The first such library we will look at is for CSV files."
   ]
  },
  {
   "cell_type": "code",
   "execution_count": 36,
   "metadata": {},
   "outputs": [
    {
     "name": "stdout",
     "output_type": "stream",
     "text": [
      "['Name', 'Born', 'Died', 'Age', 'Occupation']\n",
      "['Rosaline Franklin', '1920-07-25', '1958-04-16', '37', 'Chemist']\n",
      "['William Gosset', '1876-06-13', '1937-10-16', '61', 'Statistician']\n",
      "['Florence Nightingale', '1820-05-12', '1910-08-13', '90', 'Nurse']\n",
      "['Marie Curie', '1867-11-07', '1934-07-04', '66', 'Chemist']\n",
      "['Rachel Carson', '1907-05-27', '1964-04-14', '56', 'Biologist']\n",
      "['John Snow', '1813-03-15', '1858-06-16', '45', 'Physician']\n",
      "['Alan Turing', '1912-06-23', '1954-06-07', '41', 'Computer Scientist']\n",
      "['Johann Gauss', '1777-04-30', '1855-02-23', '77', 'Mathematician']\n"
     ]
    }
   ],
   "source": [
    "import csv\n",
    "\n",
    "with open('data/scientists.csv', 'r') as infile:\n",
    "    reader = csv.reader(infile)\n",
    "    for line in reader:\n",
    "        print(line)"
   ]
  },
  {
   "cell_type": "markdown",
   "metadata": {},
   "source": [
    "You can see immediately that the CSV library understands what we are reading and automatically splits each line. It even handles the ending '\\n' character.\n",
    "\n",
    "That is useful, but we can go a step further and read each line into a dictionary!\n",
    "\n",
    "**Note:** In Python 3, each line is *actually* read into an `OrderedDict()` container. In code you can treat it just like a regular dictionary, but it prints a little funny."
   ]
  },
  {
   "cell_type": "code",
   "execution_count": 37,
   "metadata": {},
   "outputs": [
    {
     "name": "stdout",
     "output_type": "stream",
     "text": [
      "OrderedDict([('Name', 'Rosaline Franklin'), ('Born', '1920-07-25'), ('Died', '1958-04-16'), ('Age', '37'), ('Occupation', 'Chemist')])\n",
      "OrderedDict([('Name', 'William Gosset'), ('Born', '1876-06-13'), ('Died', '1937-10-16'), ('Age', '61'), ('Occupation', 'Statistician')])\n",
      "OrderedDict([('Name', 'Florence Nightingale'), ('Born', '1820-05-12'), ('Died', '1910-08-13'), ('Age', '90'), ('Occupation', 'Nurse')])\n",
      "OrderedDict([('Name', 'Marie Curie'), ('Born', '1867-11-07'), ('Died', '1934-07-04'), ('Age', '66'), ('Occupation', 'Chemist')])\n",
      "OrderedDict([('Name', 'Rachel Carson'), ('Born', '1907-05-27'), ('Died', '1964-04-14'), ('Age', '56'), ('Occupation', 'Biologist')])\n",
      "OrderedDict([('Name', 'John Snow'), ('Born', '1813-03-15'), ('Died', '1858-06-16'), ('Age', '45'), ('Occupation', 'Physician')])\n",
      "OrderedDict([('Name', 'Alan Turing'), ('Born', '1912-06-23'), ('Died', '1954-06-07'), ('Age', '41'), ('Occupation', 'Computer Scientist')])\n",
      "OrderedDict([('Name', 'Johann Gauss'), ('Born', '1777-04-30'), ('Died', '1855-02-23'), ('Age', '77'), ('Occupation', 'Mathematician')])\n"
     ]
    }
   ],
   "source": [
    "# You only have to import a library once\n",
    "\n",
    "with open('data/scientists.csv', 'r') as infile:\n",
    "    reader = csv.DictReader(infile)  # Notice the change to a DictReader here\n",
    "    for line in reader:\n",
    "        print(line)"
   ]
  },
  {
   "cell_type": "markdown",
   "metadata": {},
   "source": [
    "We can use the \"Pretty Print\" library to make it look nicer."
   ]
  },
  {
   "cell_type": "code",
   "execution_count": 38,
   "metadata": {},
   "outputs": [
    {
     "name": "stdout",
     "output_type": "stream",
     "text": [
      "OrderedDict([('Name', 'Rosaline Franklin'),\n",
      "             ('Born', '1920-07-25'),\n",
      "             ('Died', '1958-04-16'),\n",
      "             ('Age', '37'),\n",
      "             ('Occupation', 'Chemist')])\n",
      "OrderedDict([('Name', 'William Gosset'),\n",
      "             ('Born', '1876-06-13'),\n",
      "             ('Died', '1937-10-16'),\n",
      "             ('Age', '61'),\n",
      "             ('Occupation', 'Statistician')])\n",
      "OrderedDict([('Name', 'Florence Nightingale'),\n",
      "             ('Born', '1820-05-12'),\n",
      "             ('Died', '1910-08-13'),\n",
      "             ('Age', '90'),\n",
      "             ('Occupation', 'Nurse')])\n",
      "OrderedDict([('Name', 'Marie Curie'),\n",
      "             ('Born', '1867-11-07'),\n",
      "             ('Died', '1934-07-04'),\n",
      "             ('Age', '66'),\n",
      "             ('Occupation', 'Chemist')])\n",
      "OrderedDict([('Name', 'Rachel Carson'),\n",
      "             ('Born', '1907-05-27'),\n",
      "             ('Died', '1964-04-14'),\n",
      "             ('Age', '56'),\n",
      "             ('Occupation', 'Biologist')])\n",
      "OrderedDict([('Name', 'John Snow'),\n",
      "             ('Born', '1813-03-15'),\n",
      "             ('Died', '1858-06-16'),\n",
      "             ('Age', '45'),\n",
      "             ('Occupation', 'Physician')])\n",
      "OrderedDict([('Name', 'Alan Turing'),\n",
      "             ('Born', '1912-06-23'),\n",
      "             ('Died', '1954-06-07'),\n",
      "             ('Age', '41'),\n",
      "             ('Occupation', 'Computer Scientist')])\n",
      "OrderedDict([('Name', 'Johann Gauss'),\n",
      "             ('Born', '1777-04-30'),\n",
      "             ('Died', '1855-02-23'),\n",
      "             ('Age', '77'),\n",
      "             ('Occupation', 'Mathematician')])\n"
     ]
    }
   ],
   "source": [
    "from pprint import pprint\n",
    "\n",
    "with open('data/scientists.csv', 'r') as infile:\n",
    "    reader = csv.DictReader(infile)  # Notice the change to a DictReader here\n",
    "    for line in reader:\n",
    "        pprint(line)"
   ]
  },
  {
   "cell_type": "markdown",
   "metadata": {},
   "source": [
    "Or, you can convert the OrderedDict to a regular dictionary, then pretty print it:"
   ]
  },
  {
   "cell_type": "code",
   "execution_count": 39,
   "metadata": {},
   "outputs": [
    {
     "name": "stdout",
     "output_type": "stream",
     "text": [
      "{'Age': '37',\n",
      " 'Born': '1920-07-25',\n",
      " 'Died': '1958-04-16',\n",
      " 'Name': 'Rosaline Franklin',\n",
      " 'Occupation': 'Chemist'}\n",
      "{'Age': '61',\n",
      " 'Born': '1876-06-13',\n",
      " 'Died': '1937-10-16',\n",
      " 'Name': 'William Gosset',\n",
      " 'Occupation': 'Statistician'}\n",
      "{'Age': '90',\n",
      " 'Born': '1820-05-12',\n",
      " 'Died': '1910-08-13',\n",
      " 'Name': 'Florence Nightingale',\n",
      " 'Occupation': 'Nurse'}\n",
      "{'Age': '66',\n",
      " 'Born': '1867-11-07',\n",
      " 'Died': '1934-07-04',\n",
      " 'Name': 'Marie Curie',\n",
      " 'Occupation': 'Chemist'}\n",
      "{'Age': '56',\n",
      " 'Born': '1907-05-27',\n",
      " 'Died': '1964-04-14',\n",
      " 'Name': 'Rachel Carson',\n",
      " 'Occupation': 'Biologist'}\n",
      "{'Age': '45',\n",
      " 'Born': '1813-03-15',\n",
      " 'Died': '1858-06-16',\n",
      " 'Name': 'John Snow',\n",
      " 'Occupation': 'Physician'}\n",
      "{'Age': '41',\n",
      " 'Born': '1912-06-23',\n",
      " 'Died': '1954-06-07',\n",
      " 'Name': 'Alan Turing',\n",
      " 'Occupation': 'Computer Scientist'}\n",
      "{'Age': '77',\n",
      " 'Born': '1777-04-30',\n",
      " 'Died': '1855-02-23',\n",
      " 'Name': 'Johann Gauss',\n",
      " 'Occupation': 'Mathematician'}\n"
     ]
    }
   ],
   "source": [
    "with open('data/scientists.csv', 'r') as infile:\n",
    "    reader = csv.DictReader(infile)  # Notice the change to a DictReader here\n",
    "    for line in reader:\n",
    "        pprint(dict(line))"
   ]
  },
  {
   "cell_type": "markdown",
   "metadata": {},
   "source": [
    "The `reader` object keeps track of the headers:"
   ]
  },
  {
   "cell_type": "code",
   "execution_count": 40,
   "metadata": {},
   "outputs": [
    {
     "name": "stdout",
     "output_type": "stream",
     "text": [
      "Headers: ['Name', 'Born', 'Died', 'Age', 'Occupation']\n"
     ]
    }
   ],
   "source": [
    "with open('data/scientists.csv', 'r') as infile:\n",
    "    reader = csv.DictReader(infile) \n",
    "    print(f'Headers: {reader.fieldnames}')\n"
   ]
  },
  {
   "cell_type": "markdown",
   "metadata": {},
   "source": [
    "It should be readily apparent that the CSV library saves us some steps, however, the best advice is **If you are working with CSV files, use the Pandas library.** \n",
    "\n",
    "Pandas is a very Data Science-focused library, designed for reading and manipulating CSV data in table format (called DataFrames)."
   ]
  },
  {
   "cell_type": "code",
   "execution_count": 41,
   "metadata": {},
   "outputs": [],
   "source": [
    "import pandas as pd"
   ]
  },
  {
   "cell_type": "code",
   "execution_count": 42,
   "metadata": {},
   "outputs": [],
   "source": [
    "df = pd.read_csv('data/scientists.csv')"
   ]
  },
  {
   "cell_type": "code",
   "execution_count": 43,
   "metadata": {},
   "outputs": [
    {
     "data": {
      "text/html": [
       "<div>\n",
       "<style scoped>\n",
       "    .dataframe tbody tr th:only-of-type {\n",
       "        vertical-align: middle;\n",
       "    }\n",
       "\n",
       "    .dataframe tbody tr th {\n",
       "        vertical-align: top;\n",
       "    }\n",
       "\n",
       "    .dataframe thead th {\n",
       "        text-align: right;\n",
       "    }\n",
       "</style>\n",
       "<table border=\"1\" class=\"dataframe\">\n",
       "  <thead>\n",
       "    <tr style=\"text-align: right;\">\n",
       "      <th></th>\n",
       "      <th>Name</th>\n",
       "      <th>Born</th>\n",
       "      <th>Died</th>\n",
       "      <th>Age</th>\n",
       "      <th>Occupation</th>\n",
       "    </tr>\n",
       "  </thead>\n",
       "  <tbody>\n",
       "    <tr>\n",
       "      <th>0</th>\n",
       "      <td>Rosaline Franklin</td>\n",
       "      <td>1920-07-25</td>\n",
       "      <td>1958-04-16</td>\n",
       "      <td>37</td>\n",
       "      <td>Chemist</td>\n",
       "    </tr>\n",
       "    <tr>\n",
       "      <th>1</th>\n",
       "      <td>William Gosset</td>\n",
       "      <td>1876-06-13</td>\n",
       "      <td>1937-10-16</td>\n",
       "      <td>61</td>\n",
       "      <td>Statistician</td>\n",
       "    </tr>\n",
       "    <tr>\n",
       "      <th>2</th>\n",
       "      <td>Florence Nightingale</td>\n",
       "      <td>1820-05-12</td>\n",
       "      <td>1910-08-13</td>\n",
       "      <td>90</td>\n",
       "      <td>Nurse</td>\n",
       "    </tr>\n",
       "    <tr>\n",
       "      <th>3</th>\n",
       "      <td>Marie Curie</td>\n",
       "      <td>1867-11-07</td>\n",
       "      <td>1934-07-04</td>\n",
       "      <td>66</td>\n",
       "      <td>Chemist</td>\n",
       "    </tr>\n",
       "    <tr>\n",
       "      <th>4</th>\n",
       "      <td>Rachel Carson</td>\n",
       "      <td>1907-05-27</td>\n",
       "      <td>1964-04-14</td>\n",
       "      <td>56</td>\n",
       "      <td>Biologist</td>\n",
       "    </tr>\n",
       "    <tr>\n",
       "      <th>5</th>\n",
       "      <td>John Snow</td>\n",
       "      <td>1813-03-15</td>\n",
       "      <td>1858-06-16</td>\n",
       "      <td>45</td>\n",
       "      <td>Physician</td>\n",
       "    </tr>\n",
       "    <tr>\n",
       "      <th>6</th>\n",
       "      <td>Alan Turing</td>\n",
       "      <td>1912-06-23</td>\n",
       "      <td>1954-06-07</td>\n",
       "      <td>41</td>\n",
       "      <td>Computer Scientist</td>\n",
       "    </tr>\n",
       "    <tr>\n",
       "      <th>7</th>\n",
       "      <td>Johann Gauss</td>\n",
       "      <td>1777-04-30</td>\n",
       "      <td>1855-02-23</td>\n",
       "      <td>77</td>\n",
       "      <td>Mathematician</td>\n",
       "    </tr>\n",
       "  </tbody>\n",
       "</table>\n",
       "</div>"
      ],
      "text/plain": [
       "                   Name        Born        Died  Age          Occupation\n",
       "0     Rosaline Franklin  1920-07-25  1958-04-16   37             Chemist\n",
       "1        William Gosset  1876-06-13  1937-10-16   61        Statistician\n",
       "2  Florence Nightingale  1820-05-12  1910-08-13   90               Nurse\n",
       "3           Marie Curie  1867-11-07  1934-07-04   66             Chemist\n",
       "4         Rachel Carson  1907-05-27  1964-04-14   56           Biologist\n",
       "5             John Snow  1813-03-15  1858-06-16   45           Physician\n",
       "6           Alan Turing  1912-06-23  1954-06-07   41  Computer Scientist\n",
       "7          Johann Gauss  1777-04-30  1855-02-23   77       Mathematician"
      ]
     },
     "execution_count": 43,
     "metadata": {},
     "output_type": "execute_result"
    }
   ],
   "source": [
    "df"
   ]
  },
  {
   "cell_type": "markdown",
   "metadata": {},
   "source": [
    "## JSON\n",
    "\n",
    "JSON stands for Javascript Object Notation and is an extremely popular and useful format for moving data between applications, particularly web applications and document databases like MongoDB (see Week 4 FTE for more detail on NoSQL and document databases). \n",
    "\n",
    "JSON stores data in **objects** where each object is a collection of unique keys that reference values. Sounds a lot like a Python dictionary, doesn't it? As a matter of fact, JSON and dictionaries are almost a perfect match and dictionaries are frequently used with JSON. \n",
    "\n",
    "Let's look at an example using our Scientists data.\n",
    "\n",
    "Pandas is again our friend here. We'll use it to convert the dataframe to JSON for easy viewing. Later I'll show you how to convert the CSV file directly to JSON without Pandas."
   ]
  },
  {
   "cell_type": "code",
   "execution_count": 44,
   "metadata": {},
   "outputs": [],
   "source": [
    "import json\n",
    "\n",
    "# Pandas gives a funny column-oriented format by default\n",
    "# So we can tell it to orient on the dataframe's index\n",
    "j_sci = df.to_json(orient='records')\n",
    "\n",
    "# Pandas will give us a string. OK to send to a file, not so great to print in the screen\n",
    "# So we'll use the json module to help\n",
    "j_sci = json.loads(j_sci)"
   ]
  },
  {
   "cell_type": "markdown",
   "metadata": {},
   "source": [
    "We can use the **'Pretty Print'** module (pprint) to space out our fields so it is easy to read. Keep that phrase 'pretty print' in mind. It is a general computer science term for formatting output and will be useful in Google searches."
   ]
  },
  {
   "cell_type": "code",
   "execution_count": 45,
   "metadata": {},
   "outputs": [
    {
     "name": "stdout",
     "output_type": "stream",
     "text": [
      "[ { 'Age': 37,\n",
      "    'Born': '1920-07-25',\n",
      "    'Died': '1958-04-16',\n",
      "    'Name': 'Rosaline Franklin',\n",
      "    'Occupation': 'Chemist'},\n",
      "  { 'Age': 61,\n",
      "    'Born': '1876-06-13',\n",
      "    'Died': '1937-10-16',\n",
      "    'Name': 'William Gosset',\n",
      "    'Occupation': 'Statistician'},\n",
      "  { 'Age': 90,\n",
      "    'Born': '1820-05-12',\n",
      "    'Died': '1910-08-13',\n",
      "    'Name': 'Florence Nightingale',\n",
      "    'Occupation': 'Nurse'},\n",
      "  { 'Age': 66,\n",
      "    'Born': '1867-11-07',\n",
      "    'Died': '1934-07-04',\n",
      "    'Name': 'Marie Curie',\n",
      "    'Occupation': 'Chemist'},\n",
      "  { 'Age': 56,\n",
      "    'Born': '1907-05-27',\n",
      "    'Died': '1964-04-14',\n",
      "    'Name': 'Rachel Carson',\n",
      "    'Occupation': 'Biologist'},\n",
      "  { 'Age': 45,\n",
      "    'Born': '1813-03-15',\n",
      "    'Died': '1858-06-16',\n",
      "    'Name': 'John Snow',\n",
      "    'Occupation': 'Physician'},\n",
      "  { 'Age': 41,\n",
      "    'Born': '1912-06-23',\n",
      "    'Died': '1954-06-07',\n",
      "    'Name': 'Alan Turing',\n",
      "    'Occupation': 'Computer Scientist'},\n",
      "  { 'Age': 77,\n",
      "    'Born': '1777-04-30',\n",
      "    'Died': '1855-02-23',\n",
      "    'Name': 'Johann Gauss',\n",
      "    'Occupation': 'Mathematician'}]\n"
     ]
    }
   ],
   "source": [
    "import pprint\n",
    "pprint.pprint(j_sci, indent=2)"
   ]
  },
  {
   "cell_type": "markdown",
   "metadata": {},
   "source": [
    "Here is a special function to print nested data structures like JSON that may do a better job of making it readable:"
   ]
  },
  {
   "cell_type": "code",
   "execution_count": 46,
   "metadata": {},
   "outputs": [],
   "source": [
    "def printplus(obj):\n",
    "    \"\"\"\n",
    "    Pretty-prints the object passed in.\n",
    "\n",
    "    \"\"\"\n",
    "    # Dict\n",
    "    if isinstance(obj, dict):\n",
    "        for k, v in sorted(obj.items()):\n",
    "            print (u'{0}: {1}'.format(k, v))\n",
    "\n",
    "    # List or tuple            \n",
    "    elif isinstance(obj, list) or isinstance(obj, tuple):\n",
    "        for x in obj:\n",
    "            print (x)\n",
    "\n",
    "    # Other\n",
    "    else:\n",
    "        print (obj)\n"
   ]
  },
  {
   "cell_type": "code",
   "execution_count": 47,
   "metadata": {},
   "outputs": [
    {
     "name": "stdout",
     "output_type": "stream",
     "text": [
      "{'Name': 'Rosaline Franklin', 'Born': '1920-07-25', 'Died': '1958-04-16', 'Age': 37, 'Occupation': 'Chemist'}\n",
      "{'Name': 'William Gosset', 'Born': '1876-06-13', 'Died': '1937-10-16', 'Age': 61, 'Occupation': 'Statistician'}\n",
      "{'Name': 'Florence Nightingale', 'Born': '1820-05-12', 'Died': '1910-08-13', 'Age': 90, 'Occupation': 'Nurse'}\n",
      "{'Name': 'Marie Curie', 'Born': '1867-11-07', 'Died': '1934-07-04', 'Age': 66, 'Occupation': 'Chemist'}\n",
      "{'Name': 'Rachel Carson', 'Born': '1907-05-27', 'Died': '1964-04-14', 'Age': 56, 'Occupation': 'Biologist'}\n",
      "{'Name': 'John Snow', 'Born': '1813-03-15', 'Died': '1858-06-16', 'Age': 45, 'Occupation': 'Physician'}\n",
      "{'Name': 'Alan Turing', 'Born': '1912-06-23', 'Died': '1954-06-07', 'Age': 41, 'Occupation': 'Computer Scientist'}\n",
      "{'Name': 'Johann Gauss', 'Born': '1777-04-30', 'Died': '1855-02-23', 'Age': 77, 'Occupation': 'Mathematician'}\n"
     ]
    }
   ],
   "source": [
    "printplus(j_sci)"
   ]
  },
  {
   "cell_type": "code",
   "execution_count": 48,
   "metadata": {},
   "outputs": [],
   "source": [
    "import json\n",
    "import csv\n",
    "\n",
    "# Read CSV file. This wouldn't work well for very large files\n",
    "with open('data/scientists.csv') as f:\n",
    "    reader = csv.DictReader(f)\n",
    "    rows = list(reader)\n",
    "    \n",
    "# Write JSON file to disk\n",
    "with open('data/scientists.json', 'w') as f:\n",
    "    json.dump(rows, f)"
   ]
  },
  {
   "cell_type": "code",
   "execution_count": 49,
   "metadata": {},
   "outputs": [
    {
     "name": "stdout",
     "output_type": "stream",
     "text": [
      "{'Name': 'Rosaline Franklin', 'Born': '1920-07-25', 'Died': '1958-04-16', 'Age': '37', 'Occupation': 'Chemist'}\n",
      "{'Name': 'William Gosset', 'Born': '1876-06-13', 'Died': '1937-10-16', 'Age': '61', 'Occupation': 'Statistician'}\n",
      "{'Name': 'Florence Nightingale', 'Born': '1820-05-12', 'Died': '1910-08-13', 'Age': '90', 'Occupation': 'Nurse'}\n",
      "{'Name': 'Marie Curie', 'Born': '1867-11-07', 'Died': '1934-07-04', 'Age': '66', 'Occupation': 'Chemist'}\n",
      "{'Name': 'Rachel Carson', 'Born': '1907-05-27', 'Died': '1964-04-14', 'Age': '56', 'Occupation': 'Biologist'}\n",
      "{'Name': 'John Snow', 'Born': '1813-03-15', 'Died': '1858-06-16', 'Age': '45', 'Occupation': 'Physician'}\n",
      "{'Name': 'Alan Turing', 'Born': '1912-06-23', 'Died': '1954-06-07', 'Age': '41', 'Occupation': 'Computer Scientist'}\n",
      "{'Name': 'Johann Gauss', 'Born': '1777-04-30', 'Died': '1855-02-23', 'Age': '77', 'Occupation': 'Mathematician'}\n"
     ]
    }
   ],
   "source": [
    "# Proof that it works -- Read JSON file in to new variable and print\n",
    "\n",
    "with open('data/scientists.json') as f:\n",
    "    data = json.load(f)\n",
    "printplus(data)"
   ]
  },
  {
   "cell_type": "code",
   "execution_count": null,
   "metadata": {},
   "outputs": [],
   "source": []
  }
 ],
 "metadata": {
  "kernelspec": {
   "display_name": "Python 3",
   "language": "python",
   "name": "python3"
  },
  "language_info": {
   "codemirror_mode": {
    "name": "ipython",
    "version": 3
   },
   "file_extension": ".py",
   "mimetype": "text/x-python",
   "name": "python",
   "nbconvert_exporter": "python",
   "pygments_lexer": "ipython3",
   "version": "3.7.3"
  }
 },
 "nbformat": 4,
 "nbformat_minor": 2
}
